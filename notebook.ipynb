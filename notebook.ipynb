{
 "cells": [
  {
   "cell_type": "code",
   "execution_count": 122,
   "metadata": {},
   "outputs": [],
   "source": [
    "# pip3 install pandas numpy matplotlib seaborn scikit-learn joblib"
   ]
  },
  {
   "cell_type": "code",
   "execution_count": 123,
   "metadata": {},
   "outputs": [],
   "source": [
    "import pandas as pd\n",
    "import matplotlib.pyplot as plt\n",
    "import numpy as np\n",
    "import seaborn as sns\n",
    "import joblib\n",
    "\n",
    "from sklearn.linear_model import LogisticRegression\n",
    "from sklearn.preprocessing import StandardScaler, LabelEncoder\n",
    "from sklearn.model_selection import train_test_split\n",
    "from sklearn.metrics import accuracy_score, precision_score, recall_score, f1_score, confusion_matrix, silhouette_score, davies_bouldin_score, classification_report\n",
    "from sklearn.cluster import KMeans, AgglomerativeClustering, DBSCAN\n",
    "from sklearn.decomposition import PCA\n",
    "from sklearn.neighbors import NearestNeighbors\n",
    "from sklearn.preprocessing import LabelEncoder\n",
    "\n",
    "from sklearn.cluster import KMeans"
   ]
  },
  {
   "cell_type": "code",
   "execution_count": 124,
   "metadata": {},
   "outputs": [
    {
     "name": "stdout",
     "output_type": "stream",
     "text": [
      "   Unnamed: 0    RA_ICRS    DE_ICRS             Source  e_RA_ICRS  e_DE_ICRS  \\\n",
      "0           0  44.589012   2.195298   1306361548360576     0.0655     0.0612   \n",
      "1           1  35.358035   8.988813  23700286669971584     0.0658     0.0717   \n",
      "2           2  44.450767  10.079118  27109837867995776     0.0627     0.0517   \n",
      "3           3  48.404909  15.105912  31009771252186752     0.0500     0.0421   \n",
      "4           4  57.092838  11.550927  36876009385300352     0.0521     0.0335   \n",
      "\n",
      "      Plx   e_Plx     PM   pmRA  ...   Lum-Flame  Mass-Flame  Age-Flame  \\\n",
      "0  0.2384  0.0769  2.901  2.088  ...  298.485140         NaN        NaN   \n",
      "1  0.1666  0.0785  4.402 -0.242  ...  292.672100         NaN        NaN   \n",
      "2  0.3544  0.0727  3.154  2.722  ...  506.732800         NaN        NaN   \n",
      "3  0.5962  0.0557  2.745  2.460  ...    9.055018         NaN        NaN   \n",
      "4  0.4507  0.0575  4.918 -2.851  ...  311.502840         NaN        NaN   \n",
      "\n",
      "    z-Flame  Evol  SpType-ELS  Flags-HS     EWHa   e_EWHa  f_EWHa  \n",
      "0  1.507248   NaN     O              92  0.02128  0.19309       0  \n",
      "1  1.332909   NaN     O              92  0.02144  0.17600       0  \n",
      "2  1.582338   NaN     O              92  0.13726  0.13364       0  \n",
      "3  1.561845   NaN     O              93  0.09470  0.10548       0  \n",
      "4  1.521734   NaN     O              92  0.08682  0.07831       0  \n",
      "\n",
      "[5 rows x 50 columns]\n"
     ]
    }
   ],
   "source": [
    "df = pd.read_csv(\"dataGaia2.csv\")\n",
    "print(df.head())"
   ]
  },
  {
   "cell_type": "code",
   "execution_count": 125,
   "metadata": {},
   "outputs": [
    {
     "name": "stdout",
     "output_type": "stream",
     "text": [
      "<class 'pandas.core.frame.DataFrame'>\n",
      "RangeIndex: 626016 entries, 0 to 626015\n",
      "Data columns (total 50 columns):\n",
      " #   Column      Non-Null Count   Dtype  \n",
      "---  ------      --------------   -----  \n",
      " 0   Unnamed: 0  626016 non-null  int64  \n",
      " 1   RA_ICRS     626016 non-null  float64\n",
      " 2   DE_ICRS     626016 non-null  float64\n",
      " 3   Source      626016 non-null  int64  \n",
      " 4   e_RA_ICRS   626016 non-null  float64\n",
      " 5   e_DE_ICRS   626016 non-null  float64\n",
      " 6   Plx         626016 non-null  float64\n",
      " 7   e_Plx       626016 non-null  float64\n",
      " 8   PM          626016 non-null  float64\n",
      " 9   pmRA        626016 non-null  float64\n",
      " 10  e_pmRA      626016 non-null  float64\n",
      " 11  pmDE        626016 non-null  float64\n",
      " 12  e_pmDE      626016 non-null  float64\n",
      " 13  RUWE        626016 non-null  float64\n",
      " 14  Gmag        626015 non-null  float64\n",
      " 15  e_Gmag      626015 non-null  float64\n",
      " 16  BPmag       626015 non-null  float64\n",
      " 17  e_BPmag     626015 non-null  float64\n",
      " 18  RPmag       626016 non-null  float64\n",
      " 19  e_RPmag     626016 non-null  float64\n",
      " 20  GRVSmag     509709 non-null  float64\n",
      " 21  e_GRVSmag   509709 non-null  float64\n",
      " 22  RV          510348 non-null  float64\n",
      " 23  logg        626016 non-null  float64\n",
      " 24  [Fe/H]      626016 non-null  float64\n",
      " 25  Dist        626016 non-null  float64\n",
      " 26  PQSO        626016 non-null  float64\n",
      " 27  PGal        626016 non-null  float64\n",
      " 28  Pstar       626016 non-null  float64\n",
      " 29  PWD         626016 non-null  float64\n",
      " 30  Pbin        626016 non-null  float64\n",
      " 31  Teff        626016 non-null  float64\n",
      " 32  A0          626016 non-null  float64\n",
      " 33  AG          626016 non-null  float64\n",
      " 34  ABP         626016 non-null  float64\n",
      " 35  ARP         626016 non-null  float64\n",
      " 36  E(BP-RP)    626016 non-null  float64\n",
      " 37  GMAG        626016 non-null  float64\n",
      " 38  Rad         626016 non-null  float64\n",
      " 39  Rad-Flame   611293 non-null  float64\n",
      " 40  Lum-Flame   611293 non-null  float64\n",
      " 41  Mass-Flame  590796 non-null  float64\n",
      " 42  Age-Flame   544681 non-null  float64\n",
      " 43  z-Flame     611293 non-null  float64\n",
      " 44  Evol        590797 non-null  float64\n",
      " 45  SpType-ELS  626016 non-null  object \n",
      " 46  Flags-HS    626016 non-null  int64  \n",
      " 47  EWHa        626016 non-null  float64\n",
      " 48  e_EWHa      626016 non-null  float64\n",
      " 49  f_EWHa      626016 non-null  int64  \n",
      "dtypes: float64(45), int64(4), object(1)\n",
      "memory usage: 238.8+ MB\n"
     ]
    }
   ],
   "source": [
    "df.info()"
   ]
  },
  {
   "cell_type": "code",
   "execution_count": 126,
   "metadata": {},
   "outputs": [
    {
     "data": {
      "text/html": [
       "<div>\n",
       "<style scoped>\n",
       "    .dataframe tbody tr th:only-of-type {\n",
       "        vertical-align: middle;\n",
       "    }\n",
       "\n",
       "    .dataframe tbody tr th {\n",
       "        vertical-align: top;\n",
       "    }\n",
       "\n",
       "    .dataframe thead th {\n",
       "        text-align: right;\n",
       "    }\n",
       "</style>\n",
       "<table border=\"1\" class=\"dataframe\">\n",
       "  <thead>\n",
       "    <tr style=\"text-align: right;\">\n",
       "      <th></th>\n",
       "      <th>Unnamed: 0</th>\n",
       "      <th>RA_ICRS</th>\n",
       "      <th>DE_ICRS</th>\n",
       "      <th>Source</th>\n",
       "      <th>e_RA_ICRS</th>\n",
       "      <th>e_DE_ICRS</th>\n",
       "      <th>Plx</th>\n",
       "      <th>e_Plx</th>\n",
       "      <th>PM</th>\n",
       "      <th>pmRA</th>\n",
       "      <th>...</th>\n",
       "      <th>Rad-Flame</th>\n",
       "      <th>Lum-Flame</th>\n",
       "      <th>Mass-Flame</th>\n",
       "      <th>Age-Flame</th>\n",
       "      <th>z-Flame</th>\n",
       "      <th>Evol</th>\n",
       "      <th>Flags-HS</th>\n",
       "      <th>EWHa</th>\n",
       "      <th>e_EWHa</th>\n",
       "      <th>f_EWHa</th>\n",
       "    </tr>\n",
       "  </thead>\n",
       "  <tbody>\n",
       "    <tr>\n",
       "      <th>count</th>\n",
       "      <td>626016.000000</td>\n",
       "      <td>626016.000000</td>\n",
       "      <td>626016.000000</td>\n",
       "      <td>6.260160e+05</td>\n",
       "      <td>626016.000000</td>\n",
       "      <td>626016.000000</td>\n",
       "      <td>626016.000000</td>\n",
       "      <td>626016.000000</td>\n",
       "      <td>626016.000000</td>\n",
       "      <td>626016.000000</td>\n",
       "      <td>...</td>\n",
       "      <td>611293.000000</td>\n",
       "      <td>611293.000000</td>\n",
       "      <td>590796.000000</td>\n",
       "      <td>544681.000000</td>\n",
       "      <td>611293.000000</td>\n",
       "      <td>590797.000000</td>\n",
       "      <td>626016.000000</td>\n",
       "      <td>626016.000000</td>\n",
       "      <td>626016.000000</td>\n",
       "      <td>626016.000000</td>\n",
       "    </tr>\n",
       "    <tr>\n",
       "      <th>mean</th>\n",
       "      <td>48462.184864</td>\n",
       "      <td>114.461886</td>\n",
       "      <td>27.758130</td>\n",
       "      <td>1.034965e+18</td>\n",
       "      <td>0.026891</td>\n",
       "      <td>0.022999</td>\n",
       "      <td>1.466432</td>\n",
       "      <td>0.033111</td>\n",
       "      <td>11.114728</td>\n",
       "      <td>1.332241</td>\n",
       "      <td>...</td>\n",
       "      <td>6.850684</td>\n",
       "      <td>114.628554</td>\n",
       "      <td>1.841872</td>\n",
       "      <td>3.776435</td>\n",
       "      <td>0.445233</td>\n",
       "      <td>364.190439</td>\n",
       "      <td>126.373796</td>\n",
       "      <td>0.158441</td>\n",
       "      <td>0.037198</td>\n",
       "      <td>0.211773</td>\n",
       "    </tr>\n",
       "    <tr>\n",
       "      <th>std</th>\n",
       "      <td>29249.820619</td>\n",
       "      <td>103.594052</td>\n",
       "      <td>26.724066</td>\n",
       "      <td>1.373944e+18</td>\n",
       "      <td>0.032805</td>\n",
       "      <td>0.029426</td>\n",
       "      <td>2.015173</td>\n",
       "      <td>0.040997</td>\n",
       "      <td>19.287210</td>\n",
       "      <td>15.950555</td>\n",
       "      <td>...</td>\n",
       "      <td>17.021461</td>\n",
       "      <td>330.115307</td>\n",
       "      <td>1.004918</td>\n",
       "      <td>4.139873</td>\n",
       "      <td>0.233019</td>\n",
       "      <td>238.863381</td>\n",
       "      <td>208.529314</td>\n",
       "      <td>0.227429</td>\n",
       "      <td>0.040021</td>\n",
       "      <td>0.408565</td>\n",
       "    </tr>\n",
       "    <tr>\n",
       "      <th>min</th>\n",
       "      <td>0.000000</td>\n",
       "      <td>0.000205</td>\n",
       "      <td>-89.098460</td>\n",
       "      <td>3.865554e+10</td>\n",
       "      <td>0.004400</td>\n",
       "      <td>0.004900</td>\n",
       "      <td>-5.014100</td>\n",
       "      <td>0.008000</td>\n",
       "      <td>0.002000</td>\n",
       "      <td>-584.663000</td>\n",
       "      <td>...</td>\n",
       "      <td>0.046300</td>\n",
       "      <td>0.034732</td>\n",
       "      <td>0.500000</td>\n",
       "      <td>0.200000</td>\n",
       "      <td>0.001505</td>\n",
       "      <td>100.000000</td>\n",
       "      <td>1.000000</td>\n",
       "      <td>-6.651180</td>\n",
       "      <td>0.005400</td>\n",
       "      <td>0.000000</td>\n",
       "    </tr>\n",
       "    <tr>\n",
       "      <th>25%</th>\n",
       "      <td>22357.000000</td>\n",
       "      <td>47.123816</td>\n",
       "      <td>18.999283</td>\n",
       "      <td>1.429009e+17</td>\n",
       "      <td>0.014900</td>\n",
       "      <td>0.012300</td>\n",
       "      <td>0.313100</td>\n",
       "      <td>0.018200</td>\n",
       "      <td>2.486000</td>\n",
       "      <td>-2.380000</td>\n",
       "      <td>...</td>\n",
       "      <td>1.343500</td>\n",
       "      <td>2.066952</td>\n",
       "      <td>1.041000</td>\n",
       "      <td>0.524000</td>\n",
       "      <td>0.313836</td>\n",
       "      <td>216.000000</td>\n",
       "      <td>91.000000</td>\n",
       "      <td>0.045490</td>\n",
       "      <td>0.018830</td>\n",
       "      <td>0.000000</td>\n",
       "    </tr>\n",
       "    <tr>\n",
       "      <th>50%</th>\n",
       "      <td>47831.500000</td>\n",
       "      <td>68.112694</td>\n",
       "      <td>31.444374</td>\n",
       "      <td>2.277695e+17</td>\n",
       "      <td>0.019600</td>\n",
       "      <td>0.015900</td>\n",
       "      <td>0.850400</td>\n",
       "      <td>0.023600</td>\n",
       "      <td>5.508000</td>\n",
       "      <td>0.059000</td>\n",
       "      <td>...</td>\n",
       "      <td>2.017800</td>\n",
       "      <td>11.679550</td>\n",
       "      <td>1.649000</td>\n",
       "      <td>1.448000</td>\n",
       "      <td>0.480814</td>\n",
       "      <td>286.000000</td>\n",
       "      <td>93.000000</td>\n",
       "      <td>0.147890</td>\n",
       "      <td>0.027910</td>\n",
       "      <td>0.000000</td>\n",
       "    </tr>\n",
       "    <tr>\n",
       "      <th>75%</th>\n",
       "      <td>73915.250000</td>\n",
       "      <td>122.131857</td>\n",
       "      <td>43.771117</td>\n",
       "      <td>1.963946e+18</td>\n",
       "      <td>0.026600</td>\n",
       "      <td>0.022100</td>\n",
       "      <td>1.633600</td>\n",
       "      <td>0.032000</td>\n",
       "      <td>10.857000</td>\n",
       "      <td>3.162000</td>\n",
       "      <td>...</td>\n",
       "      <td>3.695100</td>\n",
       "      <td>60.254990</td>\n",
       "      <td>2.462000</td>\n",
       "      <td>6.629000</td>\n",
       "      <td>0.570397</td>\n",
       "      <td>457.000000</td>\n",
       "      <td>94.000000</td>\n",
       "      <td>0.301950</td>\n",
       "      <td>0.039490</td>\n",
       "      <td>0.000000</td>\n",
       "    </tr>\n",
       "    <tr>\n",
       "      <th>max</th>\n",
       "      <td>99999.000000</td>\n",
       "      <td>359.998280</td>\n",
       "      <td>89.774031</td>\n",
       "      <td>6.916186e+18</td>\n",
       "      <td>0.801800</td>\n",
       "      <td>0.718500</td>\n",
       "      <td>95.047700</td>\n",
       "      <td>1.056500</td>\n",
       "      <td>688.189000</td>\n",
       "      <td>606.357000</td>\n",
       "      <td>...</td>\n",
       "      <td>181.063300</td>\n",
       "      <td>3499.921000</td>\n",
       "      <td>7.521000</td>\n",
       "      <td>13.500000</td>\n",
       "      <td>1.616032</td>\n",
       "      <td>1735.000000</td>\n",
       "      <td>999.000000</td>\n",
       "      <td>1.883830</td>\n",
       "      <td>3.296320</td>\n",
       "      <td>1.000000</td>\n",
       "    </tr>\n",
       "  </tbody>\n",
       "</table>\n",
       "<p>8 rows × 49 columns</p>\n",
       "</div>"
      ],
      "text/plain": [
       "          Unnamed: 0        RA_ICRS        DE_ICRS        Source  \\\n",
       "count  626016.000000  626016.000000  626016.000000  6.260160e+05   \n",
       "mean    48462.184864     114.461886      27.758130  1.034965e+18   \n",
       "std     29249.820619     103.594052      26.724066  1.373944e+18   \n",
       "min         0.000000       0.000205     -89.098460  3.865554e+10   \n",
       "25%     22357.000000      47.123816      18.999283  1.429009e+17   \n",
       "50%     47831.500000      68.112694      31.444374  2.277695e+17   \n",
       "75%     73915.250000     122.131857      43.771117  1.963946e+18   \n",
       "max     99999.000000     359.998280      89.774031  6.916186e+18   \n",
       "\n",
       "           e_RA_ICRS      e_DE_ICRS            Plx          e_Plx  \\\n",
       "count  626016.000000  626016.000000  626016.000000  626016.000000   \n",
       "mean        0.026891       0.022999       1.466432       0.033111   \n",
       "std         0.032805       0.029426       2.015173       0.040997   \n",
       "min         0.004400       0.004900      -5.014100       0.008000   \n",
       "25%         0.014900       0.012300       0.313100       0.018200   \n",
       "50%         0.019600       0.015900       0.850400       0.023600   \n",
       "75%         0.026600       0.022100       1.633600       0.032000   \n",
       "max         0.801800       0.718500      95.047700       1.056500   \n",
       "\n",
       "                  PM           pmRA  ...      Rad-Flame      Lum-Flame  \\\n",
       "count  626016.000000  626016.000000  ...  611293.000000  611293.000000   \n",
       "mean       11.114728       1.332241  ...       6.850684     114.628554   \n",
       "std        19.287210      15.950555  ...      17.021461     330.115307   \n",
       "min         0.002000    -584.663000  ...       0.046300       0.034732   \n",
       "25%         2.486000      -2.380000  ...       1.343500       2.066952   \n",
       "50%         5.508000       0.059000  ...       2.017800      11.679550   \n",
       "75%        10.857000       3.162000  ...       3.695100      60.254990   \n",
       "max       688.189000     606.357000  ...     181.063300    3499.921000   \n",
       "\n",
       "          Mass-Flame      Age-Flame        z-Flame           Evol  \\\n",
       "count  590796.000000  544681.000000  611293.000000  590797.000000   \n",
       "mean        1.841872       3.776435       0.445233     364.190439   \n",
       "std         1.004918       4.139873       0.233019     238.863381   \n",
       "min         0.500000       0.200000       0.001505     100.000000   \n",
       "25%         1.041000       0.524000       0.313836     216.000000   \n",
       "50%         1.649000       1.448000       0.480814     286.000000   \n",
       "75%         2.462000       6.629000       0.570397     457.000000   \n",
       "max         7.521000      13.500000       1.616032    1735.000000   \n",
       "\n",
       "            Flags-HS           EWHa         e_EWHa         f_EWHa  \n",
       "count  626016.000000  626016.000000  626016.000000  626016.000000  \n",
       "mean      126.373796       0.158441       0.037198       0.211773  \n",
       "std       208.529314       0.227429       0.040021       0.408565  \n",
       "min         1.000000      -6.651180       0.005400       0.000000  \n",
       "25%        91.000000       0.045490       0.018830       0.000000  \n",
       "50%        93.000000       0.147890       0.027910       0.000000  \n",
       "75%        94.000000       0.301950       0.039490       0.000000  \n",
       "max       999.000000       1.883830       3.296320       1.000000  \n",
       "\n",
       "[8 rows x 49 columns]"
      ]
     },
     "execution_count": 126,
     "metadata": {},
     "output_type": "execute_result"
    }
   ],
   "source": [
    "df.describe()"
   ]
  },
  {
   "cell_type": "code",
   "execution_count": 127,
   "metadata": {},
   "outputs": [
    {
     "data": {
      "text/plain": [
       "(626016, 50)"
      ]
     },
     "execution_count": 127,
     "metadata": {},
     "output_type": "execute_result"
    }
   ],
   "source": [
    "df.shape"
   ]
  },
  {
   "cell_type": "markdown",
   "metadata": {},
   "source": [
    "# Pre-Processing Data"
   ]
  },
  {
   "cell_type": "code",
   "execution_count": 128,
   "metadata": {},
   "outputs": [
    {
     "data": {
      "text/plain": [
       "['Unnamed: 0',\n",
       " 'RA_ICRS',\n",
       " 'DE_ICRS',\n",
       " 'Source',\n",
       " 'e_RA_ICRS',\n",
       " 'e_DE_ICRS',\n",
       " 'Plx',\n",
       " 'e_Plx',\n",
       " 'PM',\n",
       " 'pmRA',\n",
       " 'e_pmRA',\n",
       " 'pmDE',\n",
       " 'e_pmDE',\n",
       " 'RUWE',\n",
       " 'Gmag',\n",
       " 'e_Gmag',\n",
       " 'BPmag',\n",
       " 'e_BPmag',\n",
       " 'RPmag',\n",
       " 'e_RPmag',\n",
       " 'GRVSmag',\n",
       " 'e_GRVSmag',\n",
       " 'RV',\n",
       " 'logg',\n",
       " '[Fe/H]',\n",
       " 'Dist',\n",
       " 'PQSO',\n",
       " 'PGal',\n",
       " 'Pstar',\n",
       " 'PWD',\n",
       " 'Pbin',\n",
       " 'Teff',\n",
       " 'A0',\n",
       " 'AG',\n",
       " 'ABP',\n",
       " 'ARP',\n",
       " 'E(BP-RP)',\n",
       " 'GMAG',\n",
       " 'Rad',\n",
       " 'Rad-Flame',\n",
       " 'Lum-Flame',\n",
       " 'Mass-Flame',\n",
       " 'Age-Flame',\n",
       " 'z-Flame',\n",
       " 'Evol',\n",
       " 'SpType-ELS',\n",
       " 'Flags-HS',\n",
       " 'EWHa',\n",
       " 'e_EWHa',\n",
       " 'f_EWHa']"
      ]
     },
     "execution_count": 128,
     "metadata": {},
     "output_type": "execute_result"
    }
   ],
   "source": [
    "df.columns.tolist()"
   ]
  },
  {
   "cell_type": "code",
   "execution_count": 129,
   "metadata": {},
   "outputs": [
    {
     "name": "stdout",
     "output_type": "stream",
     "text": [
      "            Missing Values  Missing Percentages\n",
      "Gmag                     1             0.000160\n",
      "e_Gmag                   1             0.000160\n",
      "BPmag                    1             0.000160\n",
      "e_BPmag                  1             0.000160\n",
      "GRVSmag             116307            18.578918\n",
      "e_GRVSmag           116307            18.578918\n",
      "RV                  115668            18.476844\n",
      "Rad-Flame            14723             2.351857\n",
      "Lum-Flame            14723             2.351857\n",
      "Mass-Flame           35220             5.626054\n",
      "Age-Flame            81335            12.992479\n",
      "z-Flame              14723             2.351857\n",
      "Evol                 35219             5.625895\n"
     ]
    }
   ],
   "source": [
    "# checking for null values\n",
    "\n",
    "miss_values = df.isnull().sum()\n",
    "miss_perc = (miss_values / len(df) ) * 100\n",
    "miss_df = pd.DataFrame({'Missing Values': miss_values, 'Missing Percentages': miss_perc})\n",
    "print(miss_df[miss_df['Missing Values'] > 0])"
   ]
  },
  {
   "cell_type": "markdown",
   "metadata": {},
   "source": [
    "For luminosity classification, absolute magnitude 'GMAG' is the most decision column to use in clustering, however due to potential noise in the data, it's best to use a second feature aswell, 'BP-RP'. The BP-RP feature has not been de-redenned by Gaia, but they provide a column of error for an easy calculation. "
   ]
  },
  {
   "cell_type": "code",
   "execution_count": 130,
   "metadata": {},
   "outputs": [],
   "source": [
    "# creating BP-RP column\n",
    "df[\"BP-RP\"] = df[\"BPmag\"] - df[\"RPmag\"]\n",
    "df[\"BP-RP_0\"] = df[\"BP-RP\"] - df[\"E(BP-RP)\"]"
   ]
  },
  {
   "cell_type": "code",
   "execution_count": 131,
   "metadata": {},
   "outputs": [],
   "source": [
    "# GMAG needs to be 'dereddenned'\n",
    "df[\"GMAG\"] = df[\"GMAG\"] - df[\"AG\"]"
   ]
  },
  {
   "cell_type": "code",
   "execution_count": 132,
   "metadata": {},
   "outputs": [
    {
     "data": {
      "text/plain": [
       "array(['O      ', 'B      ', 'A      ', 'F      ', 'G      ', 'K      ',\n",
       "       'M      '], dtype=object)"
      ]
     },
     "execution_count": 132,
     "metadata": {},
     "output_type": "execute_result"
    }
   ],
   "source": [
    "df['SpType-ELS'].unique()"
   ]
  },
  {
   "cell_type": "code",
   "execution_count": 133,
   "metadata": {},
   "outputs": [
    {
     "data": {
      "text/plain": [
       "(626016, 3)"
      ]
     },
     "execution_count": 133,
     "metadata": {},
     "output_type": "execute_result"
    }
   ],
   "source": [
    "data = df[[\"GMAG\", \"BP-RP_0\", \"Rad\"]]\n",
    "data.shape"
   ]
  },
  {
   "cell_type": "code",
   "execution_count": 134,
   "metadata": {},
   "outputs": [
    {
     "name": "stdout",
     "output_type": "stream",
     "text": [
      "Numerical Columns: 51, Categorical Columns: 1\n",
      "Total Categorised Columns: 52\n",
      "Number of missing columns in categorised dataframes: 0\n"
     ]
    }
   ],
   "source": [
    "# categorising columns into numerical columns and categorical\n",
    "\n",
    "df_dtypes = df.dtypes\n",
    "\n",
    "numerical_cols = df_dtypes[df_dtypes.apply(lambda x: np.issubdtype(x, np.number))].index.tolist()\n",
    "categorical_cols = df_dtypes[~df_dtypes.apply(lambda x: np.issubdtype(x, np.number))].index.tolist()\n",
    "\n",
    "numerical_df = df[numerical_cols]\n",
    "categorical_df = df[categorical_cols]\n",
    "\n",
    "sorted_cols = set(numerical_cols + categorical_cols)\n",
    "\n",
    "print(f\"Numerical Columns: {len(numerical_cols)}, Categorical Columns: {len(categorical_cols)}\")\n",
    "print(f\"Total Categorised Columns: {len(sorted_cols)}\")\n",
    "print(f\"Number of missing columns in categorised dataframes: {len(set(df.columns)) - len(sorted_cols)}\")"
   ]
  },
  {
   "cell_type": "code",
   "execution_count": 135,
   "metadata": {},
   "outputs": [
    {
     "name": "stdout",
     "output_type": "stream",
     "text": [
      "Numerical Columns:  ['SpType-ELS']\n"
     ]
    }
   ],
   "source": [
    "print(\"Numerical Columns: \", categorical_cols)"
   ]
  },
  {
   "cell_type": "code",
   "execution_count": 136,
   "metadata": {},
   "outputs": [
    {
     "name": "stdout",
     "output_type": "stream",
     "text": [
      "         Missing Values  Missing Percentages\n",
      "BP-RP_0               1              0.00016\n"
     ]
    }
   ],
   "source": [
    "# checking for null values\n",
    "\n",
    "miss_values = data.isnull().sum()\n",
    "miss_perc = (miss_values / len(df) ) * 100\n",
    "miss_df = pd.DataFrame({'Missing Values': miss_values, 'Missing Percentages': miss_perc})\n",
    "print(miss_df[miss_df['Missing Values'] > 0])"
   ]
  },
  {
   "cell_type": "code",
   "execution_count": 137,
   "metadata": {},
   "outputs": [
    {
     "data": {
      "text/plain": [
       "(626015, 3)"
      ]
     },
     "execution_count": 137,
     "metadata": {},
     "output_type": "execute_result"
    }
   ],
   "source": [
    "data = data.dropna(subset=[\"BP-RP_0\"])\n",
    "df = df.dropna(subset=[\"BP-RP_0\"])\n",
    "data.shape"
   ]
  },
  {
   "cell_type": "code",
   "execution_count": 138,
   "metadata": {},
   "outputs": [
    {
     "name": "stdout",
     "output_type": "stream",
     "text": [
      "rows missing:  0\n"
     ]
    }
   ],
   "source": [
    "# splitting data into \n",
    "\n",
    "data_o = data[df['SpType-ELS'] == 'O      ']\n",
    "data_b = data[df['SpType-ELS'] == 'B      ']\n",
    "data_a = data[df['SpType-ELS'] == 'A      ']\n",
    "data_f = data[df['SpType-ELS'] == 'F      ']\n",
    "data_g = data[df['SpType-ELS'] == 'G      ']\n",
    "data_k = data[df['SpType-ELS'] == 'K      ']\n",
    "data_m = data[df['SpType-ELS'] == 'M      ']\n",
    "\n",
    "rows_missing = data.shape[0] - (data_o.shape[0] + data_b.shape[0] + data_a.shape[0] + data_f.shape[0]+ data_g.shape[0]+ data_k.shape[0]+ data_m.shape[0])\n",
    "\n",
    "print(\"rows missing: \", rows_missing)"
   ]
  },
  {
   "cell_type": "code",
   "execution_count": 139,
   "metadata": {},
   "outputs": [
    {
     "data": {
      "text/plain": [
       "np.int64(0)"
      ]
     },
     "execution_count": 139,
     "metadata": {},
     "output_type": "execute_result"
    }
   ],
   "source": [
    "# checking for duplicates\n",
    "data.duplicated().sum()"
   ]
  },
  {
   "cell_type": "markdown",
   "metadata": {},
   "source": [
    "# Models"
   ]
  },
  {
   "cell_type": "code",
   "execution_count": 140,
   "metadata": {},
   "outputs": [],
   "source": [
    "scaler_o = StandardScaler()\n",
    "x_scaled_o = scaler_o.fit_transform(data_o)\n",
    "scaler_b = StandardScaler()\n",
    "x_scaled_b = scaler_b.fit_transform(data_b)\n",
    "scaler_a = StandardScaler()\n",
    "x_scaled_a = scaler_a.fit_transform(data_a)\n",
    "scaler_f = StandardScaler()\n",
    "x_scaled_f = scaler_f.fit_transform(data_f)\n",
    "scaler_g = StandardScaler()\n",
    "x_scaled_g = scaler_g.fit_transform(data_g)\n",
    "scaler_k = StandardScaler()\n",
    "x_scaled_k = scaler_k.fit_transform(data_k)\n",
    "scaler_m = StandardScaler()\n",
    "x_scaled_m = scaler_m.fit_transform(data_m)\n",
    "scaled_list = [x_scaled_a, x_scaled_b, x_scaled_g, x_scaled_f, x_scaled_k, x_scaled_m]"
   ]
  },
  {
   "cell_type": "code",
   "execution_count": 141,
   "metadata": {},
   "outputs": [
    {
     "name": "stdout",
     "output_type": "stream",
     "text": [
      "K\tIntertias\t\tSilhouettes\n",
      "2\t185552.42\t\t0.426\n",
      "3\t128255.01\t\t0.432\n",
      "4\t105154.48\t\t0.429\n",
      "5\t86898.77\t\t0.397\n",
      "6\t76178.36\t\t0.332\n",
      "7\t66291.03\t\t0.334\n",
      "8\t59826.50\t\t0.338\n",
      "9\t54099.59\t\t0.322\n",
      "K\tIntertias\t\tSilhouettes\n",
      "2\t181095.32\t\t0.437\n",
      "3\t132039.60\t\t0.356\n",
      "4\t105135.15\t\t0.360\n",
      "5\t91005.60\t\t0.347\n",
      "6\t80893.44\t\t0.346\n",
      "7\t71169.54\t\t0.291\n",
      "8\t64437.77\t\t0.294\n",
      "9\t59026.07\t\t0.296\n",
      "K\tIntertias\t\tSilhouettes\n",
      "2\t179928.67\t\t0.714\n",
      "3\t130071.32\t\t0.354\n",
      "4\t103884.67\t\t0.359\n",
      "5\t88731.70\t\t0.367\n",
      "6\t76050.88\t\t0.359\n",
      "7\t63738.33\t\t0.364\n",
      "8\t56527.27\t\t0.333\n",
      "9\t50900.27\t\t0.336\n",
      "K\tIntertias\t\tSilhouettes\n",
      "2\t168487.43\t\t0.456\n",
      "3\t133343.10\t\t0.348\n",
      "4\t106541.67\t\t0.339\n",
      "5\t86482.10\t\t0.355\n",
      "6\t74583.31\t\t0.301\n",
      "7\t65059.94\t\t0.316\n",
      "8\t57876.10\t\t0.317\n",
      "9\t52719.96\t\t0.299\n",
      "K\tIntertias\t\tSilhouettes\n",
      "2\t180101.33\t\t0.379\n",
      "3\t134711.41\t\t0.343\n",
      "4\t101298.73\t\t0.355\n",
      "5\t79598.91\t\t0.371\n",
      "6\t65751.74\t\t0.365\n",
      "7\t57900.08\t\t0.360\n",
      "8\t50684.63\t\t0.357\n",
      "9\t45397.84\t\t0.361\n",
      "K\tIntertias\t\tSilhouettes\n",
      "2\t179847.63\t\t0.510\n",
      "3\t85230.59\t\t0.653\n",
      "4\t51141.82\t\t0.680\n",
      "5\t42047.72\t\t0.630\n",
      "6\t35956.56\t\t0.633\n",
      "7\t31476.03\t\t0.594\n",
      "8\t27492.96\t\t0.593\n",
      "9\t23570.55\t\t0.594\n"
     ]
    }
   ],
   "source": [
    "# K-means\n",
    "\n",
    "intertias = []\n",
    "silhouettes = []\n",
    "K_range = range(2, 10) # should expect to peak see 3 or 5\n",
    "\n",
    "\n",
    "for x in scaled_list:\n",
    "    for k in K_range:\n",
    "        km = KMeans(n_clusters=k, n_init=10, random_state=42)\n",
    "        labels_km = km.fit_predict(x)\n",
    "\n",
    "        intertias.append(km.inertia_)\n",
    "        silhouettes.append(silhouette_score(x, labels_km, sample_size=min(10000, x.shape[0]), metric=\"euclidean\", random_state=42))\n",
    "\n",
    "    print(f\"K\\tIntertias\\t\\tSilhouettes\")\n",
    "    for k, i, s in zip(K_range, intertias, silhouettes):\n",
    "        print(f\"{k}\\t{i:.2f}\\t\\t{s:.3f}\")\n",
    "    \n",
    "    intertias = [] # reset lists\n",
    "    silhouettes = []"
   ]
  },
  {
   "cell_type": "code",
   "execution_count": 142,
   "metadata": {},
   "outputs": [
    {
     "name": "stdout",
     "output_type": "stream",
     "text": [
      "Clusters\n",
      "0     6339\n",
      "1     8709\n",
      "2    10968\n",
      "Name: count, dtype: int64\n",
      "\n",
      " Cluster centres (original units: )\n",
      "         BP-RP_0  GMAG   Rad\n",
      "Cluster                     \n",
      "0          -0.43 -3.39  4.05\n",
      "1          -0.26 -0.78  1.88\n",
      "2          -0.25 -6.28  5.24\n"
     ]
    }
   ],
   "source": [
    "km_o = KMeans(n_clusters=3, n_init=10, random_state=42)\n",
    "labels_o = km_o.fit_predict(x_scaled_o)\n",
    "\n",
    "df_clusters_o = data_o.copy()\n",
    "df_clusters_o[\"Clusters\"] = labels_o\n",
    "\n",
    "print(df_clusters_o[\"Clusters\"].value_counts().sort_index())\n",
    "\n",
    "centres_scaled = km_o.cluster_centers_\n",
    "centres = pd.DataFrame(scaler_o.inverse_transform(centres_scaled), columns=data_o.columns)\n",
    "centres = centres[['BP-RP_0', 'GMAG', 'Rad']]\n",
    "centres.index.name = \"Cluster\"\n",
    "print(\"\\n Cluster centres (original units: )\")\n",
    "print(centres.round(2))"
   ]
  },
  {
   "cell_type": "code",
   "execution_count": 143,
   "metadata": {},
   "outputs": [
    {
     "name": "stdout",
     "output_type": "stream",
     "text": [
      "Clusters\n",
      "0    49712\n",
      "1    43378\n",
      "2     6910\n",
      "Name: count, dtype: int64\n",
      "\n",
      " Cluster centres (original units: )\n",
      "         BP-RP_0  GMAG   Rad\n",
      "Cluster                     \n",
      "0          -0.06 -0.50  2.10\n",
      "1          -0.11 -2.18  3.65\n",
      "2          -0.26 -4.40  6.97\n"
     ]
    }
   ],
   "source": [
    "km_b = KMeans(n_clusters=3, n_init=10, random_state=42)\n",
    "labels_b = km_b.fit_predict(x_scaled_b)\n",
    "\n",
    "df_clusters_b = data_b.copy()\n",
    "df_clusters_b[\"Clusters\"] = labels_b\n",
    "\n",
    "print(df_clusters_b[\"Clusters\"].value_counts().sort_index())\n",
    "\n",
    "centres_scaled = km_b.cluster_centers_\n",
    "centres = pd.DataFrame(scaler_b.inverse_transform(centres_scaled), columns=data_b.columns)\n",
    "centres = centres[['BP-RP_0', 'GMAG', 'Rad']]\n",
    "centres.index.name = \"Cluster\"\n",
    "print(\"\\n Cluster centres (original units: )\")\n",
    "print(centres.round(2))"
   ]
  },
  {
   "cell_type": "markdown",
   "metadata": {},
   "source": [
    "clusters suck cheeks, there is a general improvement when using 'Rad' columns along with 'BP-RP_0' and 'GMAG, but data in each datasets still sucks. GMAG cluster centre is -0.5? the lowest possible value should be -1. how does that make sense. ideal gmag cluster centres would be -2, -4, -6. "
   ]
  },
  {
   "cell_type": "code",
   "execution_count": 144,
   "metadata": {},
   "outputs": [
    {
     "name": "stdout",
     "output_type": "stream",
     "text": [
      "Clusters\n",
      "0    49712\n",
      "1    43378\n",
      "2     6910\n",
      "Name: count, dtype: int64\n",
      "\n",
      " Cluster centres (original units: )\n",
      "         BP-RP_0  GMAG   Rad\n",
      "Cluster                     \n",
      "0           0.20 -1.73  5.37\n",
      "1           0.33  1.42  2.18\n",
      "2           0.07  0.18  2.44\n"
     ]
    }
   ],
   "source": [
    "km_a = KMeans(n_clusters=3, n_init=10, random_state=42)\n",
    "labels_a = km_a.fit_predict(x_scaled_a)\n",
    "\n",
    "df_clusters_a = data_a.copy()\n",
    "df_clusters_a[\"Clusters\"] = labels_a\n",
    "\n",
    "print(df_clusters_b[\"Clusters\"].value_counts().sort_index())\n",
    "\n",
    "centres_scaled = km_a.cluster_centers_\n",
    "centres = pd.DataFrame(scaler_a.inverse_transform(centres_scaled), columns=data_a.columns)\n",
    "centres = centres[['BP-RP_0', 'GMAG', 'Rad']]\n",
    "centres.index.name = \"Cluster\"\n",
    "print(\"\\n Cluster centres (original units: )\")\n",
    "print(centres.round(2))"
   ]
  },
  {
   "cell_type": "code",
   "execution_count": 145,
   "metadata": {},
   "outputs": [
    {
     "name": "stdout",
     "output_type": "stream",
     "text": [
      "Clusters\n",
      "0    38703\n",
      "1    47745\n",
      "2    13552\n",
      "Name: count, dtype: int64\n",
      "\n",
      " Cluster centres (original units: )\n",
      "         BP-RP_0  GMAG   Rad\n",
      "Cluster                     \n",
      "0           0.60  2.34  1.74\n",
      "1           0.74  3.52  1.35\n",
      "2           0.49  0.58  2.57\n"
     ]
    }
   ],
   "source": [
    "km_f = KMeans(n_clusters=3, n_init=10, random_state=42)\n",
    "labels_f = km_f.fit_predict(x_scaled_f)\n",
    "\n",
    "df_clusters_f = data_f.copy()\n",
    "df_clusters_f[\"Clusters\"] = labels_f\n",
    "\n",
    "print(df_clusters_f[\"Clusters\"].value_counts().sort_index())\n",
    "\n",
    "centres_scaled = km_f.cluster_centers_\n",
    "centres = pd.DataFrame(scaler_f.inverse_transform(centres_scaled), columns=data_f.columns)\n",
    "centres = centres[['BP-RP_0', 'GMAG', 'Rad']]\n",
    "centres.index.name = \"Cluster\"\n",
    "print(\"\\n Cluster centres (original units: )\")\n",
    "print(centres.round(2))"
   ]
  },
  {
   "cell_type": "code",
   "execution_count": 146,
   "metadata": {},
   "outputs": [
    {
     "name": "stdout",
     "output_type": "stream",
     "text": [
      "Clusters\n",
      "0    58994\n",
      "1     4586\n",
      "2    36420\n",
      "Name: count, dtype: int64\n",
      "\n",
      " Cluster centres (original units: )\n",
      "         BP-RP_0  GMAG   Rad\n",
      "Cluster                     \n",
      "0           0.85  4.09  1.23\n",
      "1           0.74 -2.01  8.42\n",
      "2           0.73  2.74  1.67\n"
     ]
    }
   ],
   "source": [
    "km_g = KMeans(n_clusters=3, n_init=10, random_state=42)\n",
    "labels_g = km_g.fit_predict(x_scaled_g)\n",
    "\n",
    "df_clusters_g = data_g.copy()\n",
    "df_clusters_g[\"Clusters\"] = labels_g\n",
    "\n",
    "print(df_clusters_g[\"Clusters\"].value_counts().sort_index())\n",
    "\n",
    "centres_scaled = km_g.cluster_centers_\n",
    "centres = pd.DataFrame(scaler_g.inverse_transform(centres_scaled), columns=data_g.columns)\n",
    "centres = centres[['BP-RP_0', 'GMAG', 'Rad']]\n",
    "centres.index.name = \"Cluster\"\n",
    "print(\"\\n Cluster centres (original units: )\")\n",
    "print(centres.round(2))"
   ]
  },
  {
   "cell_type": "code",
   "execution_count": 147,
   "metadata": {},
   "outputs": [
    {
     "name": "stdout",
     "output_type": "stream",
     "text": [
      "Clusters\n",
      "0    36138\n",
      "1    16296\n",
      "2    47566\n",
      "Name: count, dtype: int64\n",
      "\n",
      " Cluster centres (original units: )\n",
      "         BP-RP_0  GMAG    Rad\n",
      "Cluster                      \n",
      "0           1.05 -1.11  11.44\n",
      "1           1.21  5.86   0.83\n",
      "2           0.93  1.48   3.72\n"
     ]
    }
   ],
   "source": [
    "km_k = KMeans(n_clusters=3, n_init=10, random_state=42)\n",
    "labels_k = km_k.fit_predict(x_scaled_k)\n",
    "\n",
    "df_clusters_k = data_k.copy()\n",
    "df_clusters_k[\"Clusters\"] = labels_k\n",
    "\n",
    "print(df_clusters_k[\"Clusters\"].value_counts().sort_index())\n",
    "\n",
    "centres_scaled = km_k.cluster_centers_\n",
    "centres = pd.DataFrame(scaler_k.inverse_transform(centres_scaled), columns=data_k.columns)\n",
    "centres = centres[['BP-RP_0', 'GMAG', 'Rad']]\n",
    "centres.index.name = \"Cluster\"\n",
    "print(\"\\n Cluster centres (original units: )\")\n",
    "print(centres.round(2))"
   ]
  },
  {
   "cell_type": "code",
   "execution_count": 148,
   "metadata": {},
   "outputs": [
    {
     "name": "stdout",
     "output_type": "stream",
     "text": [
      "Clusters\n",
      "0    36138\n",
      "1    16296\n",
      "2    47566\n",
      "Name: count, dtype: int64\n",
      "\n",
      " Cluster centres (original units: )\n",
      "         BP-RP_0  GMAG     Rad\n",
      "Cluster                       \n",
      "0           1.05 -2.33   15.35\n",
      "1           1.90  7.80    0.60\n",
      "2           2.16 -4.05  104.27\n"
     ]
    }
   ],
   "source": [
    "km_m = KMeans(n_clusters=3, n_init=10, random_state=42)\n",
    "labels_m = km_m.fit_predict(x_scaled_m)\n",
    "\n",
    "df_clusters_m = data_m.copy()\n",
    "df_clusters_m[\"Clusters\"] = labels_m\n",
    "\n",
    "print(df_clusters_k[\"Clusters\"].value_counts().sort_index())\n",
    "\n",
    "centres_scaled = km_m.cluster_centers_\n",
    "centres = pd.DataFrame(scaler_m.inverse_transform(centres_scaled), columns=data_m.columns)\n",
    "centres = centres[['BP-RP_0', 'GMAG', 'Rad']]\n",
    "centres.index.name = \"Cluster\"\n",
    "print(\"\\n Cluster centres (original units: )\")\n",
    "print(centres.round(2))"
   ]
  },
  {
   "cell_type": "code",
   "execution_count": 151,
   "metadata": {},
   "outputs": [
    {
     "name": "stdout",
     "output_type": "stream",
     "text": [
      "Clusters\n",
      "0    51753\n",
      "1    44606\n",
      "2     3640\n",
      "Name: count, dtype: int64\n",
      "\n",
      " Cluster centres (original units: )\n",
      "         GMAG     Rad\n",
      "Cluster              \n",
      "0       -3.30   45.97\n",
      "1        7.61    0.61\n",
      "2       -6.53  276.57\n"
     ]
    }
   ],
   "source": [
    "data_m = data_m[[\"GMAG\", \"Rad\"]]\n",
    "\n",
    "scaler_m = StandardScaler()\n",
    "x_scaled_m = scaler_m.fit_transform(data_m)\n",
    "\n",
    "km_m = KMeans(n_clusters=3, n_init=10, random_state=42)\n",
    "labels_m = km_m.fit_predict(x_scaled_m)\n",
    "\n",
    "df_clusters_m = data_m.copy()\n",
    "df_clusters_m[\"Clusters\"] = labels_m\n",
    "\n",
    "print(df_clusters_m[\"Clusters\"].value_counts().sort_index())\n",
    "\n",
    "centres_scaled = km_m.cluster_centers_\n",
    "centres = pd.DataFrame(scaler_m.inverse_transform(centres_scaled), columns=data_m.columns)\n",
    "centres = centres[['GMAG', 'Rad']]\n",
    "centres.index.name = \"Cluster\"\n",
    "print(\"\\n Cluster centres (original units: )\")\n",
    "print(centres.round(2))"
   ]
  },
  {
   "cell_type": "code",
   "execution_count": 152,
   "metadata": {},
   "outputs": [
    {
     "name": "stdout",
     "output_type": "stream",
     "text": [
      "Clusters\n",
      "0    24376\n",
      "1    47125\n",
      "2    28499\n",
      "Name: count, dtype: int64\n",
      "\n",
      " Cluster centres (original units: )\n",
      "         GMAG    Rad\n",
      "Cluster             \n",
      "0       -1.57  13.11\n",
      "1        0.45   5.40\n",
      "2        5.01   1.02\n"
     ]
    }
   ],
   "source": [
    "data_k = data_k[[\"GMAG\", \"Rad\"]]\n",
    "\n",
    "scaler_k = StandardScaler()\n",
    "x_scaled_k = scaler_k.fit_transform(data_k)\n",
    "\n",
    "km_k = KMeans(n_clusters=3, n_init=10, random_state=42)\n",
    "labels_k = km_k.fit_predict(x_scaled_k)\n",
    "\n",
    "df_clusters_k = data_k.copy()\n",
    "df_clusters_k[\"Clusters\"] = labels_k\n",
    "\n",
    "print(df_clusters_k[\"Clusters\"].value_counts().sort_index())\n",
    "\n",
    "centres_scaled = km_k.cluster_centers_\n",
    "centres = pd.DataFrame(scaler_k.inverse_transform(centres_scaled), columns=data_k.columns)\n",
    "centres = centres[['GMAG', 'Rad']]\n",
    "centres.index.name = \"Cluster\"\n",
    "print(\"\\n Cluster centres (original units: )\")\n",
    "print(centres.round(2))"
   ]
  }
 ],
 "metadata": {
  "kernelspec": {
   "display_name": "Python 3",
   "language": "python",
   "name": "python3"
  },
  "language_info": {
   "codemirror_mode": {
    "name": "ipython",
    "version": 3
   },
   "file_extension": ".py",
   "mimetype": "text/x-python",
   "name": "python",
   "nbconvert_exporter": "python",
   "pygments_lexer": "ipython3",
   "version": "3.12.8"
  }
 },
 "nbformat": 4,
 "nbformat_minor": 2
}
